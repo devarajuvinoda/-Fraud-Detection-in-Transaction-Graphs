{
 "cells": [
  {
   "cell_type": "code",
   "execution_count": 1,
   "id": "852ea556",
   "metadata": {},
   "outputs": [],
   "source": [
    "import numpy as np\n",
    "import pandas as pd\n",
    "import torch\n",
    "from torch.nn import Linear, LayerNorm, ReLU, Dropout\n",
    "import torch.nn.functional as F\n",
    "from torch_geometric.nn import ChebConv, NNConv, DeepGCNLayer, GATConv, DenseGCNConv, GCNConv, GraphConv\n",
    "from torch_geometric.data import Data, DataLoader\n",
    "\n",
    "from sklearn.metrics import roc_auc_score\n",
    "import scipy.sparse as sp\n",
    "\n",
    "import warnings\n",
    "warnings.filterwarnings(\"ignore\")\n",
    "\n",
    "import torch\n",
    "import torch.nn as nn\n",
    "from torch.autograd import Variable\n",
    "from torch.nn.parameter import Parameter\n",
    "from collections import OrderedDict\n",
    "import numpy as np\n",
    "import torch.nn.functional as F\n"
   ]
  },
  {
   "cell_type": "code",
   "execution_count": 2,
   "id": "1d68cadc",
   "metadata": {},
   "outputs": [],
   "source": [
    "import pandas as pd\n",
    "df_features = pd.read_csv('elliptic_bitcoin_dataset/elliptic_txs_features.csv', header=None)\n",
    "df_edges = pd.read_csv(\"elliptic_bitcoin_dataset/elliptic_txs_edgelist.csv\")\n",
    "df_classes =  pd.read_csv(\"elliptic_bitcoin_dataset/elliptic_txs_classes.csv\")\n",
    "df_classes['class'] = df_classes['class'].map({'unknown': 2, '1':1, '2':0})"
   ]
  },
  {
   "cell_type": "code",
   "execution_count": 3,
   "id": "c59c7a69",
   "metadata": {},
   "outputs": [],
   "source": [
    "# merging dataframes\n",
    "df_merge = df_features.merge(df_classes, how='left', right_on=\"txId\", left_on=0)\n",
    "df_merge = df_merge.sort_values(0).reset_index(drop=True)\n",
    "classified = df_merge.loc[df_merge['class'].loc[df_merge['class']!=2].index].drop('txId', axis=1)\n",
    "unclassified = df_merge.loc[df_merge['class'].loc[df_merge['class']==2].index].drop('txId', axis=1)\n",
    "\n",
    "# storing classified unclassified nodes seperatly for training and testing purpose\n",
    "classified_edges = df_edges.loc[df_edges['txId1'].isin(classified[0]) & df_edges['txId2'].isin(classified[0])]\n",
    "unclassifed_edges = df_edges.loc[df_edges['txId1'].isin(unclassified[0]) | df_edges['txId2'].isin(unclassified[0])]\n",
    "del df_features, df_classes"
   ]
  },
  {
   "cell_type": "code",
   "execution_count": 4,
   "id": "208bd151",
   "metadata": {},
   "outputs": [
    {
     "name": "stdout",
     "output_type": "stream",
     "text": [
      "torch.Size([2, 234355])\n"
     ]
    }
   ],
   "source": [
    "# all nodes in data\n",
    "nodes = df_merge[0].values\n",
    "map_id = {j:i for i,j in enumerate(nodes)} # mapping nodes to indexes\n",
    "\n",
    "edges = df_edges.copy()\n",
    "edges.txId1 = edges.txId1.map(map_id)\n",
    "edges.txId2 = edges.txId2.map(map_id)\n",
    "edges = edges.astype(int)\n",
    "\n",
    "edge_index = np.array(edges.values).T\n",
    "\n",
    "# for undirected graph\n",
    "# edge_index_ = np.array([edge_index[1,:], edge_index[0, :]])\n",
    "# edge_index = np.concatenate((edge_index, edge_index_), axis=1)\n",
    "\n",
    "edge_index = torch.tensor(edge_index, dtype=torch.long).contiguous()\n",
    "weights = torch.tensor([1]* edge_index.shape[1] , dtype=torch.double)\n",
    "print(edge_index.shape)"
   ]
  },
  {
   "cell_type": "code",
   "execution_count": 5,
   "id": "19117dd5",
   "metadata": {},
   "outputs": [],
   "source": [
    "# maping txIds to corresponding indexes, to pass node features to the model\n",
    "node_features = df_merge.drop(['txId'], axis=1).copy()\n",
    "node_features[0] = node_features[0].map(map_id)\n",
    "classified_idx = node_features['class'].loc[node_features['class']!=2].index\n",
    "unclassified_idx = node_features['class'].loc[node_features['class']==2].index\n",
    "# replace unkown class with 0, to avoid having 3 classes, this data/labels never used in training\n",
    "node_features['class'] = node_features['class'].replace(2, 0) "
   ]
  },
  {
   "cell_type": "code",
   "execution_count": 6,
   "id": "2acfd89e",
   "metadata": {},
   "outputs": [],
   "source": [
    "labels = node_features['class'].values\n",
    "node_features = torch.tensor(np.array(node_features.drop([0, 'class', 1], axis=1).values, dtype=np.double), dtype=torch.double)\n",
    "\n",
    "# converting data to PyGeometric graph data format\n",
    "data_train = Data(x=node_features, edge_index=edge_index, edge_attr=weights,\n",
    "                               y=torch.tensor(labels, dtype=torch.double)) #, adj= torch.from_numpy(np.array(adj))"
   ]
  },
  {
   "cell_type": "code",
   "execution_count": 7,
   "id": "dd448717",
   "metadata": {},
   "outputs": [],
   "source": [
    "y_train = labels[classified_idx]\n",
    "\n",
    "# spliting train set and validation set\n",
    "from sklearn.model_selection import train_test_split\n",
    "X_train, X_valid, y_train, y_valid, train_idx, valid_idx = train_test_split(node_features[classified_idx], y_train, classified_idx, test_size=0.15, random_state=42, stratify=y_train)"
   ]
  },
  {
   "cell_type": "code",
   "execution_count": 8,
   "id": "978ba53c",
   "metadata": {},
   "outputs": [
    {
     "data": {
      "text/plain": [
       "21"
      ]
     },
     "execution_count": 8,
     "metadata": {},
     "output_type": "execute_result"
    }
   ],
   "source": [
    "import gc\n",
    "gc.collect()"
   ]
  },
  {
   "cell_type": "code",
   "execution_count": 90,
   "id": "fd9932c1",
   "metadata": {},
   "outputs": [],
   "source": [
    "import torch.nn.functional as F\n",
    "from sklearn.metrics import roc_auc_score\n",
    "class Net(torch.nn.Module):\n",
    "    def __init__(self):\n",
    "        super(Net, self).__init__()\n",
    "        \n",
    "        self.conv1 = GCNConv(165, 64)\n",
    "        self.conv2 = GCNConv(64, 32)\n",
    "        self.conv3 = GCNConv(32, 32)\n",
    "#         self.conv4 = GCNConv(64, 1) \n",
    "\n",
    "    def forward(self, data, adj=None):\n",
    "        x, edge_index = data.x, data.edge_index\n",
    "        \n",
    "        x = self.conv1(x, edge_index)\n",
    "        x = F.relu(x)\n",
    "        x = F.dropout(x, p=0.1, training=self.training)\n",
    "        \n",
    "        x = self.conv2(x, edge_index)\n",
    "        x = F.relu(x)\n",
    "        x = F.dropout(x, p=0.1, training=self.training)\n",
    "        \n",
    "        x = self.conv3(x, edge_index)\n",
    "        x = F.relu(x)\n",
    "        x = F.dropout(x, p=0.1, training=self.training)\n",
    "        \n",
    "        return x\n",
    "#         return F.sigmoid(x)\n",
    "\n",
    "    def get_out_feature_size(self):\n",
    "        return 32"
   ]
  },
  {
   "cell_type": "code",
   "execution_count": 91,
   "id": "6a2b1122",
   "metadata": {},
   "outputs": [],
   "source": [
    "class Tree(nn.Module):\n",
    "    def __init__(self,depth,n_in_feature,used_feature_rate,n_class):\n",
    "        super(Tree, self).__init__()\n",
    "        self.depth = depth\n",
    "        self.n_leaf = 2 ** depth\n",
    "        self.n_class = n_class\n",
    "\n",
    "        # used features in this tree\n",
    "        n_used_feature = int(n_in_feature*used_feature_rate)\n",
    "        onehot = np.eye(n_in_feature)\n",
    "        using_idx = np.random.choice(np.arange(n_in_feature), n_used_feature, replace=False)\n",
    "        self.feature_mask = onehot[using_idx].T\n",
    "        self.feature_mask = Parameter(torch.from_numpy(self.feature_mask).type(torch.FloatTensor),requires_grad=False)\n",
    "\n",
    "        # leaf label distribution\n",
    "        self.pi = np.random.rand(self.n_leaf,n_class)\n",
    "        self.pi = Parameter(torch.from_numpy(self.pi).type(torch.FloatTensor),requires_grad=True)\n",
    "        \n",
    "        # decision\n",
    "        self.decision = nn.Sequential(OrderedDict([\n",
    "                        ('linear1',nn.Linear(n_used_feature,self.n_leaf)),\n",
    "                        ('sigmoid', nn.Sigmoid()),\n",
    "                        ]))\n",
    "\n",
    "    def forward(self,x):\n",
    "        \"\"\"\n",
    "        :param x(Variable): [batch_size,n_features]\n",
    "        :return: route probability (Variable): [batch_size,n_leaf]\n",
    "        \"\"\"\n",
    "        if x.is_cuda and not self.feature_mask.is_cuda:\n",
    "            self.feature_mask = self.feature_mask.cuda()\n",
    "\n",
    "        feats = torch.mm(x,self.feature_mask) # ->[batch_size,n_used_feature]\n",
    "        decision = self.decision(feats) # ->[batch_size,n_leaf]\n",
    "\n",
    "        decision = torch.unsqueeze(decision,dim=2)\n",
    "        decision_comp = 1-decision\n",
    "        decision = torch.cat((decision,decision_comp),dim=2) # -> [batch_size,n_leaf,2]\n",
    "\n",
    "        # compute route probability\n",
    "        # note: we do not use decision[:,0]\n",
    "        batch_size = x.size()[0]\n",
    "        _mu = Variable(x.data.new(batch_size,1,1).fill_(1.))\n",
    "        begin_idx = 1\n",
    "        end_idx = 2\n",
    "        for n_layer in range(0, self.depth):\n",
    "            _mu = _mu.view(batch_size,-1,1).repeat(1,1,2)\n",
    "            _decision = decision[:, begin_idx:end_idx, :]  # -> [batch_size,2**n_layer,2]\n",
    "            _mu = _mu*_decision # -> [batch_size,2**n_layer,2]\n",
    "            begin_idx = end_idx\n",
    "            end_idx = begin_idx + 2 ** (n_layer+1)\n",
    "\n",
    "        mu = _mu.view(batch_size,self.n_leaf)\n",
    "        return mu\n",
    "\n",
    "    def get_pi(self):\n",
    "        return F.softmax(self.pi,dim=-1)\n",
    "\n",
    "    def cal_prob(self,mu,pi):\n",
    "        \"\"\"\n",
    "        :param mu [batch_size,n_leaf]\n",
    "        :param pi [n_leaf,n_class]\n",
    "        :return: label probability [batch_size,n_class]\n",
    "        \"\"\"\n",
    "        p = torch.mm(mu,pi)\n",
    "        return p\n",
    "\n",
    "\n",
    "    def update_pi(self,new_pi):\n",
    "        self.pi.data=new_pi\n"
   ]
  },
  {
   "cell_type": "code",
   "execution_count": 92,
   "id": "c8b59afb",
   "metadata": {},
   "outputs": [],
   "source": [
    "class Forest(nn.Module):\n",
    "    def __init__(self,n_tree,tree_depth,n_in_feature,tree_feature_rate,n_class):\n",
    "        super(Forest, self).__init__()\n",
    "        self.trees = nn.ModuleList()\n",
    "        self.n_tree  = n_tree\n",
    "        for _ in range(n_tree):\n",
    "            tree = Tree(tree_depth,n_in_feature,tree_feature_rate,n_class)\n",
    "            self.trees.append(tree)\n",
    "\n",
    "    def forward(self,x):\n",
    "        probs = []\n",
    "        for tree in self.trees:\n",
    "            mu = tree(x)\n",
    "            p=tree.cal_prob(mu,tree.get_pi())\n",
    "            probs.append(p.unsqueeze(2))\n",
    "        probs = torch.cat(probs,dim=2)\n",
    "        prob = torch.sum(probs,dim=2)/self.n_tree\n",
    "        return prob\n"
   ]
  },
  {
   "cell_type": "code",
   "execution_count": 93,
   "id": "e6ef7d76",
   "metadata": {},
   "outputs": [],
   "source": [
    "class NeuralDecisionForest(nn.Module):\n",
    "    def __init__(self, feature_layer, forest):\n",
    "        super(NeuralDecisionForest, self).__init__()\n",
    "        self.feature_layer = feature_layer\n",
    "        self.forest = forest\n",
    "\n",
    "    def forward(self, x):\n",
    "        out = self.feature_layer(x) #GCN\n",
    "        out = out.view(x.size()[0],-1)\n",
    "        out = self.forest(out) # Random Forest\n",
    "        return out"
   ]
  },
  {
   "cell_type": "code",
   "execution_count": null,
   "id": "2ab0d51c",
   "metadata": {},
   "outputs": [],
   "source": []
  },
  {
   "cell_type": "code",
   "execution_count": 222,
   "id": "7e1f00f4",
   "metadata": {
    "scrolled": true
   },
   "outputs": [
    {
     "name": "stdout",
     "output_type": "stream",
     "text": [
      "epoch: 0 - loss: 0.5682557026576809 - roc: 0.714022727167962\n",
      "epoch: 50 - loss: 0.3242539333781292 - roc: 0.8177400883670346\n",
      "epoch: 100 - loss: 0.23359513681481436 - roc: 0.8435507614402307\n",
      "epoch: 150 - loss: 0.1879214887363593 - roc: 0.843969045271486\n",
      "epoch: 200 - loss: 0.16175664994550873 - roc: 0.8473545886934365\n",
      "epoch: 250 - loss: 0.15069019626141344 - roc: 0.8483342372436948\n",
      "epoch: 300 - loss: 0.14427957750215556 - roc: 0.8491972053992715\n",
      "epoch: 350 - loss: 0.14040425243248159 - roc: 0.8495394695815149\n",
      "epoch: 400 - loss: 0.13724377919136818 - roc: 0.8500263403354568\n",
      "epoch: 450 - loss: 0.1351510471720643 - roc: 0.851336109203543\n",
      "epoch: 500 - loss: 0.1336285437289799 - roc: 0.8502115424216822\n",
      "epoch: 550 - loss: 0.13355970499485717 - roc: 0.8512364831287477\n",
      "epoch: 600 - loss: 0.13128390292871145 - roc: 0.8524683261488719\n",
      "epoch: 650 - loss: 0.1322068309609429 - roc: 0.8542007167192085\n",
      "epoch: 700 - loss: 0.12919806894413524 - roc: 0.8549801636443531\n",
      "epoch: 750 - loss: 0.1293212832342618 - roc: 0.8561440466855521\n",
      "epoch: 800 - loss: 0.12699773868426767 - roc: 0.856823327566997\n",
      "epoch: 850 - loss: 0.1261337355867914 - roc: 0.8591697352604217\n",
      "epoch: 900 - loss: 0.12427858756472424 - roc: 0.8609342847841518\n",
      "epoch: 950 - loss: 0.12281250201895427 - roc: 0.8640750193511809\n",
      "epoch: 1000 - loss: 0.12228385437912524 - roc: 0.8647543944553878\n",
      "epoch: 1050 - loss: 0.12079380184041079 - roc: 0.8676868314876932\n",
      "epoch: 1100 - loss: 0.11976003172413081 - roc: 0.8678530150718441\n",
      "epoch: 1150 - loss: 0.11835320192287904 - roc: 0.8728151662233026\n",
      "epoch: 1200 - loss: 0.11571397814300086 - roc: 0.8766678262347888\n",
      "epoch: 1250 - loss: 0.11441513692673368 - roc: 0.8783622450321192\n",
      "epoch: 1300 - loss: 0.11145500526185631 - roc: 0.8823565762138782\n",
      "epoch: 1350 - loss: 0.10872472732597545 - roc: 0.8868017669348093\n",
      "epoch: 1400 - loss: 0.10510210112545912 - roc: 0.8917418917037205\n",
      "epoch: 1450 - loss: 0.1037663606170074 - roc: 0.8950909274294259\n",
      "epoch: 1500 - loss: 0.10100518383983688 - roc: 0.8948318293302817\n",
      "epoch: 1550 - loss: 0.10161374890126335 - roc: 0.8957147111041698\n",
      "epoch: 1600 - loss: 0.09999277689502618 - roc: 0.8960861807186193\n",
      "epoch: 1650 - loss: 0.09900533338617915 - roc: 0.896623703454934\n",
      "epoch: 1700 - loss: 0.10028356482516083 - roc: 0.8970652458125448\n",
      "epoch: 1750 - loss: 0.09825345751152834 - roc: 0.8968133738744403\n",
      "epoch: 1800 - loss: 0.09908400518323421 - roc: 0.8981157716233918\n",
      "epoch: 1850 - loss: 0.09727181184628766 - roc: 0.8976848764378645\n",
      "epoch: 1900 - loss: 0.09649423095735066 - roc: 0.8981822095423189\n",
      "epoch: 1950 - loss: 0.09839596074058186 - roc: 0.8990411224951858\n",
      "epoch: 2000 - loss: 0.09558931318826086 - roc: 0.898820923900856\n",
      "epoch: 2050 - loss: 0.09644246499513665 - roc: 0.8994006548105055\n",
      "epoch: 2100 - loss: 0.0960444489763142 - roc: 0.8997291914611449\n",
      "epoch: 2150 - loss: 0.09415552822310483 - roc: 0.8995145483858091\n",
      "epoch: 2200 - loss: 0.09448532428859084 - roc: 0.9003273537925836\n",
      "epoch: 2250 - loss: 0.09541766365773048 - roc: 0.9001300332096097\n",
      "epoch: 2300 - loss: 0.0954268197376038 - roc: 0.899961468688747\n",
      "epoch: 2350 - loss: 0.09354362053066487 - roc: 0.9009853693214804\n",
      "epoch: 2400 - loss: 0.09369940197742782 - roc: 0.900707263592119\n",
      "epoch: 2450 - loss: 0.09382914531756086 - roc: 0.9009047436289975\n",
      "epoch: 2500 - loss: 0.09274403997722822 - roc: 0.9015221491475581\n",
      "epoch: 2550 - loss: 0.09323373118312525 - roc: 0.9026239140210629\n",
      "epoch: 2600 - loss: 0.0934106209174685 - roc: 0.9021503250525829\n",
      "epoch: 2650 - loss: 0.09315913779426856 - roc: 0.9033727240528127\n",
      "epoch: 2700 - loss: 0.09309210688848744 - roc: 0.9034597895086695\n",
      "epoch: 2750 - loss: 0.09117721617208459 - roc: 0.9059540109716462\n",
      "epoch: 2800 - loss: 0.09097985647605973 - roc: 0.904965074231446\n",
      "epoch: 2850 - loss: 0.09084718201745694 - roc: 0.9053522609273543\n",
      "epoch: 2900 - loss: 0.09066586278628543 - roc: 0.9043973675957833\n",
      "epoch: 2950 - loss: 0.09060553406497258 - roc: 0.9066524371934988\n",
      "epoch: 3000 - loss: 0.09049096459136964 - roc: 0.9052885482206148\n",
      "epoch: 3050 - loss: 0.08959120158735472 - roc: 0.906499934029571\n",
      "epoch: 3100 - loss: 0.08848970192024813 - roc: 0.907049687605158\n",
      "epoch: 3150 - loss: 0.08951166036298748 - roc: 0.9095360233477626\n",
      "epoch: 3200 - loss: 0.0903463537032595 - roc: 0.9096746141585152\n",
      "epoch: 3250 - loss: 0.08658589147693785 - roc: 0.9098372281495748\n",
      "epoch: 3300 - loss: 0.0880766679414268 - roc: 0.9091197399382193\n",
      "epoch: 3350 - loss: 0.08748375728548324 - roc: 0.9093850023803569\n",
      "epoch: 3400 - loss: 0.08784253447862281 - roc: 0.9129205738067623\n",
      "epoch: 3450 - loss: 0.08633965845851314 - roc: 0.9140603358209399\n",
      "epoch: 3500 - loss: 0.060167334006336275 - roc: 0.9691580561316593\n",
      "epoch: 3550 - loss: 0.05040131114862901 - roc: 0.9713943464081574\n",
      "epoch: 3600 - loss: 0.04828935398144684 - roc: 0.9721379741880078\n",
      "epoch: 3650 - loss: 0.04784179143581499 - roc: 0.9723106337750562\n",
      "epoch: 3700 - loss: 0.046614423783478444 - roc: 0.9734912522283321\n",
      "epoch: 3750 - loss: 0.04599433278843818 - roc: 0.9726573590426759\n",
      "epoch: 3800 - loss: 0.04569554264083583 - roc: 0.9738071376612234\n",
      "epoch: 3850 - loss: 0.04588372154167704 - roc: 0.9732143351553504\n",
      "epoch: 3900 - loss: 0.04396503546358191 - roc: 0.9740075639713845\n",
      "epoch: 3950 - loss: 0.04389313166409011 - roc: 0.9736236497044726\n",
      "epoch: 4000 - loss: 0.04474534734087774 - roc: 0.9740009647541059\n",
      "epoch: 4050 - loss: 0.0439773952207901 - roc: 0.9740397700361586\n",
      "epoch: 4100 - loss: 0.04469655513701845 - roc: 0.9738371186192383\n",
      "epoch: 4150 - loss: 0.044078890091369435 - roc: 0.9750016757155792\n",
      "epoch: 4200 - loss: 0.0423187011143273 - roc: 0.974974180788895\n",
      "epoch: 4250 - loss: 0.04232976549862759 - roc: 0.9747849090041505\n",
      "epoch: 4300 - loss: 0.04307315271301459 - roc: 0.9756373387062147\n",
      "epoch: 4350 - loss: 0.0404899196374216 - roc: 0.9757711603956395\n",
      "epoch: 4400 - loss: 0.04149938999082347 - roc: 0.9752098500359219\n",
      "epoch: 4450 - loss: 0.0404291416318763 - roc: 0.9763361381951622\n",
      "epoch: 4500 - loss: 0.04240935891547204 - roc: 0.9750824789817285\n",
      "epoch: 4550 - loss: 0.04296872785914271 - roc: 0.975835391327569\n",
      "epoch: 4600 - loss: 0.04361143862518306 - roc: 0.9758736022814317\n",
      "epoch: 4650 - loss: 0.040932415107745576 - roc: 0.9759005354954973\n",
      "epoch: 4700 - loss: 0.042083796565270594 - roc: 0.975700134553003\n",
      "epoch: 4750 - loss: 0.038165969362686146 - roc: 0.9758117232945949\n",
      "epoch: 4800 - loss: 0.03954877991872651 - roc: 0.9761980909772658\n",
      "epoch: 4850 - loss: 0.04284825689215769 - roc: 0.9761678490946801\n",
      "epoch: 4900 - loss: 0.041025509393549486 - roc: 0.9765281967992849\n",
      "epoch: 4950 - loss: 0.0390729878452079 - roc: 0.9764434180573777\n",
      "epoch: 5000 - loss: 0.04074554078167021 - roc: 0.9760700784835017\n",
      "epoch: 5050 - loss: 0.03828714222662568 - roc: 0.9776392099992558\n",
      "epoch: 5100 - loss: 0.04105307742234016 - roc: 0.9759580802352913\n",
      "epoch: 5150 - loss: 0.03957860323778474 - roc: 0.9763422300591078\n",
      "epoch: 5200 - loss: 0.03985097152251469 - roc: 0.9764216525994016\n",
      "epoch: 5250 - loss: 0.040077251676674 - roc: 0.9761538207750289\n",
      "epoch: 5300 - loss: 0.03940463035168392 - roc: 0.9769642307492823\n",
      "epoch: 5350 - loss: 0.038664562365272964 - roc: 0.9768991699322584\n",
      "epoch: 5400 - loss: 0.03873075892339664 - roc: 0.97750512738526\n",
      "epoch: 5450 - loss: 0.03819720724179528 - roc: 0.9771879192097512\n",
      "epoch: 5500 - loss: 0.040380924588447484 - roc: 0.9778517113187368\n",
      "epoch: 5550 - loss: 0.03795320929376614 - roc: 0.9775735367342802\n",
      "epoch: 5600 - loss: 0.03931718159963761 - roc: 0.9775930335980683\n",
      "epoch: 5650 - loss: 0.03872582495550671 - roc: 0.9773599772207051\n",
      "epoch: 5700 - loss: 0.037575586631435634 - roc: 0.9777320737789159\n",
      "epoch: 5750 - loss: 0.037608831189066605 - roc: 0.9780022249328096\n",
      "epoch: 5800 - loss: 0.038286538816301514 - roc: 0.9783219988666016\n",
      "epoch: 5850 - loss: 0.037535137253419996 - roc: 0.9780725259849709\n",
      "epoch: 5900 - loss: 0.03696749148185185 - roc: 0.9780819410132462\n",
      "epoch: 5950 - loss: 0.036413815665405046 - roc: 0.9781160895164942\n",
      "epoch: 6000 - loss: 0.035596708412145496 - roc: 0.979323528841312\n",
      "epoch: 6050 - loss: 0.038129062389614415 - roc: 0.9784268071932962\n",
      "epoch: 6100 - loss: 0.036694929029647695 - roc: 0.9791838146053223\n",
      "epoch: 6150 - loss: 0.03723006514512074 - roc: 0.9791651729942954\n",
      "epoch: 6200 - loss: 0.03926467828104194 - roc: 0.9785279661999472\n",
      "epoch: 6250 - loss: 0.036319033279690036 - roc: 0.9785108937602991\n",
      "epoch: 6300 - loss: 0.038014027556916345 - roc: 0.978526197711187\n",
      "epoch: 6350 - loss: 0.03564302756743614 - roc: 0.9791354529608518\n",
      "epoch: 6400 - loss: 0.036036365991650395 - roc: 0.9786596135179453\n",
      "epoch: 6450 - loss: 0.038171143384698035 - roc: 0.9782096019836298\n",
      "epoch: 6500 - loss: 0.03502697658130058 - roc: 0.97946490284749\n",
      "epoch: 6550 - loss: 0.03446516621705187 - roc: 0.9790554505881776\n",
      "epoch: 6600 - loss: 0.036957640217604 - roc: 0.9788018137852655\n",
      "epoch: 6650 - loss: 0.03611361287707439 - roc: 0.979589160926592\n",
      "epoch: 6700 - loss: 0.035880126707818 - roc: 0.978906977259293\n",
      "epoch: 6750 - loss: 0.03578450505273425 - roc: 0.9798587721115817\n",
      "epoch: 6800 - loss: 0.036165085034099015 - roc: 0.9795382081561717\n",
      "epoch: 6850 - loss: 0.03609108742666584 - roc: 0.9799478307412457\n",
      "epoch: 6900 - loss: 0.03705938420651948 - roc: 0.9802040477982503\n",
      "epoch: 6950 - loss: 0.033711816690646774 - roc: 0.9809990451030446\n",
      "epoch: 7000 - loss: 0.035595723108169185 - roc: 0.9812578387901889\n",
      "epoch: 7050 - loss: 0.03530474182709074 - roc: 0.9813696667126376\n",
      "epoch: 7100 - loss: 0.03429165667636735 - roc: 0.9812519788591956\n",
      "epoch: 7150 - loss: 0.03540455342820642 - roc: 0.9811303698892813\n",
      "epoch: 7200 - loss: 0.034297572082564086 - roc: 0.9812152211102356\n",
      "epoch: 7250 - loss: 0.03492899430636216 - roc: 0.9817564982612131\n",
      "epoch: 7300 - loss: 0.03548317054942589 - roc: 0.9814357929716603\n",
      "epoch: 7350 - loss: 0.03373946177164483 - roc: 0.9814778090755191\n",
      "epoch: 7400 - loss: 0.03476018184881565 - roc: 0.9816775794502999\n",
      "epoch: 7450 - loss: 0.032730886822306286 - roc: 0.9826738365743014\n",
      "epoch: 7500 - loss: 0.03523240636868448 - roc: 0.9823330038532472\n",
      "epoch: 7550 - loss: 0.03440059628900191 - roc: 0.9825175355082827\n",
      "epoch: 7600 - loss: 0.03356508918308525 - roc: 0.9816909373387614\n",
      "epoch: 7650 - loss: 0.03585326931496292 - roc: 0.9824020582657905\n",
      "epoch: 7700 - loss: 0.03493000491130322 - roc: 0.9821154761118194\n",
      "epoch: 7750 - loss: 0.034936500147830264 - roc: 0.9812020081798694\n",
      "epoch: 7800 - loss: 0.03445525715989708 - roc: 0.9823717475281092\n",
      "epoch: 7850 - loss: 0.03337031027668117 - roc: 0.9820353577726689\n",
      "epoch: 7900 - loss: 0.034244927625969465 - roc: 0.982345865260233\n",
      "epoch: 7950 - loss: 0.03409870918625833 - roc: 0.9819929140424299\n",
      "epoch: 8000 - loss: 0.0332167348720841 - roc: 0.9819596026721807\n",
      "epoch: 8050 - loss: 0.0330253499436359 - roc: 0.982464071338865\n",
      "epoch: 8100 - loss: 0.03475068231979968 - roc: 0.9825147631847142\n",
      "epoch: 8150 - loss: 0.031481547834677076 - roc: 0.9830769759085733\n",
      "epoch: 8200 - loss: 0.03233407263803944 - roc: 0.9819567687414218\n",
      "epoch: 8250 - loss: 0.033706105389949406 - roc: 0.982650451209613\n",
      "epoch: 8300 - loss: 0.032817185451803496 - roc: 0.982568249097846\n",
      "epoch: 8350 - loss: 0.03356165379925299 - roc: 0.9826136173576535\n",
      "epoch: 8400 - loss: 0.03338210164733217 - roc: 0.9823055161744677\n",
      "epoch: 8450 - loss: 0.031447363889229 - roc: 0.9831102329195369\n",
      "epoch: 8500 - loss: 0.03286052359151439 - roc: 0.983495205380543\n",
      "epoch: 8550 - loss: 0.03257021665988518 - roc: 0.9829218200115055\n",
      "epoch: 8600 - loss: 0.033587408358557065 - roc: 0.9830944107434589\n",
      "epoch: 8650 - loss: 0.03141180444428764 - roc: 0.9832804173471121\n",
      "epoch: 8700 - loss: 0.03299298504606624 - roc: 0.9839264339696887\n",
      "epoch: 8750 - loss: 0.03228431266675951 - roc: 0.983964974703218\n",
      "epoch: 8800 - loss: 0.03262515013109929 - roc: 0.983402830834454\n",
      "epoch: 8850 - loss: 0.030569050648927967 - roc: 0.9839452966418109\n",
      "epoch: 8900 - loss: 0.03269735820311695 - roc: 0.9833921039354179\n",
      "epoch: 8950 - loss: 0.03144732813272919 - roc: 0.9832557708469964\n",
      "epoch: 9000 - loss: 0.03188319987083408 - roc: 0.9834209868358625\n",
      "epoch: 9050 - loss: 0.03224692568250412 - roc: 0.9843422136498515\n",
      "epoch: 9100 - loss: 0.031062950044604423 - roc: 0.9848174950040918\n",
      "epoch: 9150 - loss: 0.031004464334760617 - roc: 0.9840948354126944\n",
      "epoch: 9200 - loss: 0.032255177432290116 - roc: 0.9848223148607531\n",
      "epoch: 9250 - loss: 0.0308427802155634 - roc: 0.9851691959583246\n",
      "epoch: 9300 - loss: 0.030994872636376933 - roc: 0.9842600224099418\n",
      "epoch: 9350 - loss: 0.030364030939945646 - roc: 0.984546144321961\n",
      "epoch: 9400 - loss: 0.030268502144083758 - roc: 0.9847304657877589\n",
      "epoch: 9450 - loss: 0.03210093513282219 - roc: 0.9850597888360638\n",
      "epoch: 9500 - loss: 0.031070225991014586 - roc: 0.9844274345139483\n",
      "epoch: 9550 - loss: 0.030819444233073902 - roc: 0.9841712065850868\n",
      "epoch: 9600 - loss: 0.030849034822374295 - roc: 0.98411890208043\n",
      "epoch: 9650 - loss: 0.030692686381712075 - roc: 0.984416838077198\n",
      "epoch: 9700 - loss: 0.030016937902837725 - roc: 0.984807663221293\n",
      "epoch: 9750 - loss: 0.030883012912875565 - roc: 0.9850862726800349\n",
      "epoch: 9800 - loss: 0.02991451056428351 - roc: 0.9842999764848978\n",
      "epoch: 9850 - loss: 0.03010872649246764 - roc: 0.9848485232843435\n",
      "epoch: 9900 - loss: 0.02951190942936494 - roc: 0.9843744052188161\n",
      "epoch: 9950 - loss: 0.03021465364654228 - roc: 0.9847736306845208\n",
      "epoch: 10000 - loss: 0.029856727220939138 - roc: 0.9859396409857647\n"
     ]
    },
    {
     "data": {
      "text/plain": [
       "[<matplotlib.lines.Line2D at 0x7fd1a89cc650>]"
      ]
     },
     "execution_count": 222,
     "metadata": {},
     "output_type": "execute_result"
    },
    {
     "data": {
      "image/png": "[encoded data removed]",
      "text/plain": [
       "<Figure size 432x288 with 1 Axes>"
      ]
     },
     "metadata": {
      "needs_background": "light"
     },
     "output_type": "display_data"
    }
   ],
   "source": [
    "import matplotlib.pyplot as plt\n",
    "\n",
    "# hyper-parameters\n",
    "batch_size = 32\n",
    "feat_dropout = 0.5\n",
    "n_tree = 3\n",
    "tree_depth = 1\n",
    "tree_feature_rate = 0.5\n",
    "lr = 0.001\n",
    "epochs = 10001\n",
    "report_every = 10\n",
    "\n",
    "n_class = 2\n",
    "\n",
    "device = torch.device('cuda' if torch.cuda.is_available() else 'cpu')\n",
    "\n",
    "feat_layer = Net()\n",
    "forest = Forest(n_tree=n_tree,tree_depth=tree_depth,n_in_feature=feat_layer.get_out_feature_size(),\n",
    "                        tree_feature_rate=tree_feature_rate,n_class=n_class)\n",
    "model = NeuralDecisionForest(feat_layer,forest)\n",
    "    \n",
    "# model = Net().to(device)\n",
    "model = model.to(device)\n",
    "model.double()\n",
    "\n",
    "data_train = data_train.to(device)\n",
    "optimizer = torch.optim.Adam(model.parameters(), lr=0.01, weight_decay=1e-5)\n",
    "scheduler = torch.optim.lr_scheduler.ReduceLROnPlateau(optimizer, 'min')\n",
    "criterion = torch.nn.BCELoss()\n",
    "\n",
    "loss_vals= []\n",
    "model.train()\n",
    "for epoch in range(epochs):\n",
    "    optimizer.zero_grad()\n",
    "    out = model(data_train)\n",
    "    # data_train.y.unsqueeze(1)\n",
    "#     out = out.reshape((data_train.x.shape[0]))\n",
    "    out = out[:, 0]\n",
    "    loss = criterion(out[train_idx], data_train.y[train_idx])\n",
    "    auc = roc_auc_score(data_train.y.detach().cpu().numpy()[train_idx], out.detach().cpu().numpy()[train_idx]) #[train_idx]\n",
    "    loss.backward()\n",
    "    loss_vals.append(loss.item())\n",
    "    optimizer.step()\n",
    "    if epoch%50 == 0:\n",
    "      print(\"epoch: {} - loss: {} - roc: {}\".format(epoch, loss.item(), auc))\n",
    "    \n",
    "plt.plot(np.linspace(1, epochs, epochs).astype(int), loss_vals)"
   ]
  },
  {
   "cell_type": "code",
   "execution_count": 223,
   "id": "72133997",
   "metadata": {},
   "outputs": [],
   "source": [
    "preds = model(data_train)\n",
    "preds = preds.detach().cpu().numpy()\n",
    "preds = preds[:, 0]"
   ]
  },
  {
   "cell_type": "code",
   "execution_count": 224,
   "id": "918dc23e",
   "metadata": {},
   "outputs": [
    {
     "name": "stdout",
     "output_type": "stream",
     "text": [
      "train accuracy:  0.9932287324086005\n",
      "train AUC:  0.9848535207146714\n"
     ]
    }
   ],
   "source": [
    "from sklearn.metrics import accuracy_score\n",
    "out_labels = preds > 0.5\n",
    "train_acc = accuracy_score(data_train.y.detach().cpu().numpy()[train_idx], out_labels[train_idx])\n",
    "train_auc = roc_auc_score(data_train.y.detach().cpu().numpy()[train_idx], preds[train_idx])\n",
    "print(\"train accuracy: \", train_acc)\n",
    "print(\"train AUC: \", train_auc)"
   ]
  },
  {
   "cell_type": "code",
   "execution_count": 225,
   "id": "9d26f341",
   "metadata": {},
   "outputs": [
    {
     "name": "stdout",
     "output_type": "stream",
     "text": [
      "valid accuracy:  0.9676449534717251\n",
      "valid AUC:  0.9564943240266819\n"
     ]
    }
   ],
   "source": [
    "valid_auc = roc_auc_score(data_train.y.detach().cpu().numpy()[valid_idx], preds[valid_idx])\n",
    "out_labels = out.detach().cpu().numpy() > 0.5\n",
    "valid_acc = accuracy_score(data_train.y.detach().cpu().numpy()[valid_idx], out_labels[valid_idx])\n",
    "print(\"valid accuracy: \", valid_acc)\n",
    "print(\"valid AUC: \", valid_auc)"
   ]
  },
  {
   "cell_type": "code",
   "execution_count": 226,
   "id": "3e0ec364",
   "metadata": {},
   "outputs": [
    {
     "data": {
      "text/plain": [
       "array([[6234,   69],\n",
       "       [ 157,  525]])"
      ]
     },
     "execution_count": 226,
     "metadata": {},
     "output_type": "execute_result"
    }
   ],
   "source": [
    "from sklearn.metrics import roc_curve, confusion_matrix\n",
    "# confusion matrix for validation data\n",
    "cm = confusion_matrix(data_train.y.detach().cpu().numpy()[valid_idx], out_labels[valid_idx])\n",
    "cm"
   ]
  },
  {
   "cell_type": "code",
   "execution_count": 234,
   "id": "88036955",
   "metadata": {},
   "outputs": [
    {
     "data": {
      "text/plain": [
       "0.7697947214076246"
      ]
     },
     "execution_count": 234,
     "metadata": {},
     "output_type": "execute_result"
    }
   ],
   "source": [
    "# 6234/(6234+69)\n",
    "525/(157+525)"
   ]
  },
  {
   "cell_type": "code",
   "execution_count": 227,
   "id": "f6274992",
   "metadata": {},
   "outputs": [
    {
     "data": {
      "text/plain": [
       "array([[35642,    74],\n",
       "       [  199,  3664]])"
      ]
     },
     "execution_count": 227,
     "metadata": {},
     "output_type": "execute_result"
    }
   ],
   "source": [
    "# confusion matrix for train data\n",
    "cm = confusion_matrix(data_train.y.detach().cpu().numpy()[train_idx], out_labels[train_idx])\n",
    "cm"
   ]
  },
  {
   "cell_type": "code",
   "execution_count": 228,
   "id": "bf322533",
   "metadata": {
    "scrolled": true
   },
   "outputs": [
    {
     "data": {
      "text/plain": [
       "0.8228840125391849"
      ]
     },
     "execution_count": 228,
     "metadata": {},
     "output_type": "execute_result"
    }
   ],
   "source": [
    "from sklearn.metrics import f1_score, classification_report\n",
    "\n",
    "f1_score(data_train.y.detach().cpu().numpy()[valid_idx], out_labels[valid_idx])"
   ]
  },
  {
   "cell_type": "code",
   "execution_count": 229,
   "id": "c2eeadce",
   "metadata": {},
   "outputs": [
    {
     "name": "stdout",
     "output_type": "stream",
     "text": [
      "              precision    recall  f1-score   support\n",
      "\n",
      "         0.0       0.98      0.99      0.98      6303\n",
      "         1.0       0.88      0.77      0.82       682\n",
      "\n",
      "    accuracy                           0.97      6985\n",
      "   macro avg       0.93      0.88      0.90      6985\n",
      "weighted avg       0.97      0.97      0.97      6985\n",
      "\n"
     ]
    }
   ],
   "source": [
    "print(classification_report(data_train.y.detach().cpu().numpy()[valid_idx], out_labels[valid_idx]))"
   ]
  },
  {
   "cell_type": "code",
   "execution_count": 231,
   "id": "0b8c6902",
   "metadata": {},
   "outputs": [
    {
     "data": {
      "text/plain": [
       "0.9640836732008946"
      ]
     },
     "execution_count": 231,
     "metadata": {},
     "output_type": "execute_result"
    }
   ],
   "source": [
    "f1_score(data_train.y.detach().cpu().numpy()[train_idx], out_labels[train_idx])"
   ]
  },
  {
   "cell_type": "code",
   "execution_count": 232,
   "id": "43d4c00d",
   "metadata": {},
   "outputs": [
    {
     "name": "stdout",
     "output_type": "stream",
     "text": [
      "              precision    recall  f1-score   support\n",
      "\n",
      "         0.0       0.99      1.00      1.00     35716\n",
      "         1.0       0.98      0.95      0.96      3863\n",
      "\n",
      "    accuracy                           0.99     39579\n",
      "   macro avg       0.99      0.97      0.98     39579\n",
      "weighted avg       0.99      0.99      0.99     39579\n",
      "\n"
     ]
    }
   ],
   "source": [
    "print(classification_report(data_train.y.detach().cpu().numpy()[train_idx], out_labels[train_idx]))"
   ]
  },
  {
   "cell_type": "code",
   "execution_count": 235,
   "id": "e2552ac4",
   "metadata": {},
   "outputs": [
    {
     "data": {
      "text/plain": [
       "Text(0, 0.5, 'loss')"
      ]
     },
     "execution_count": 235,
     "metadata": {},
     "output_type": "execute_result"
    },
    {
     "data": {
      "image/png": "[encoded data removed]",
      "text/plain": [
       "<Figure size 432x288 with 1 Axes>"
      ]
     },
     "metadata": {
      "needs_background": "light"
     },
     "output_type": "display_data"
    }
   ],
   "source": [
    "plt.plot(np.linspace(1, epochs, epochs).astype(int), loss_vals)\n",
    "plt.title(\"Loss v/s number of epochs\")\n",
    "plt.xlabel(\"epochs\")\n",
    "plt.ylabel(\"loss\")"
   ]
  },
  {
   "cell_type": "code",
   "execution_count": null,
   "id": "ef8255f2",
   "metadata": {},
   "outputs": [],
   "source": []
  },
  {
   "cell_type": "code",
   "execution_count": 211,
   "id": "dbcb5561",
   "metadata": {},
   "outputs": [
    {
     "data": {
      "text/plain": [
       "Text(0, 0.5, 'loss')"
      ]
     },
     "execution_count": 211,
     "metadata": {},
     "output_type": "execute_result"
    },
    {
     "data": {
      "image/png": "[encoded data removed]",
      "text/plain": [
       "<Figure size 432x288 with 1 Axes>"
      ]
     },
     "metadata": {
      "needs_background": "light"
     },
     "output_type": "display_data"
    }
   ],
   "source": [
    "plt.plot(np.linspace(1, epochs, epochs).astype(int), loss_vals)\n",
    "plt.title(\"Loss v/s number of epochs\")\n",
    "plt.xlabel(\"epochs\")\n",
    "plt.ylabel(\"loss\")"
   ]
  },
  {
   "cell_type": "code",
   "execution_count": null,
   "id": "1fd99ea1",
   "metadata": {},
   "outputs": [],
   "source": []
  },
  {
   "cell_type": "code",
   "execution_count": null,
   "id": "6fb5e667",
   "metadata": {},
   "outputs": [],
   "source": []
  }
 ],
 "metadata": {
  "kernelspec": {
   "display_name": "Python 3 (ipykernel)",
   "language": "python",
   "name": "python3"
  },
  "language_info": {
   "codemirror_mode": {
    "name": "ipython",
    "version": 3
   },
   "file_extension": ".py",
   "mimetype": "text/x-python",
   "name": "python",
   "nbconvert_exporter": "python",
   "pygments_lexer": "ipython3",
   "version": "3.7.10"
  }
 },
 "nbformat": 4,
 "nbformat_minor": 5
}
